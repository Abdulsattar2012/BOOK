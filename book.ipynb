{
 "cells": [
  {
   "cell_type": "markdown",
   "metadata": {},
   "source": [
    "# **PYTHON FOR BIGGENERS**"
   ]
  },
  {
   "cell_type": "markdown",
   "metadata": {},
   "source": [
    "#### **Index**\n",
    "\n",
    "**chapter1** How to install python\n",
    "\n",
    "**chapter2** All the extensions needed for jupyter notebook and python \n",
    "\n",
    "**chapter3** Type your first line of code\n",
    "\n",
    "**chapter4** Mathemetics \n",
    "\n",
    "**sub topic for chp1# mathematics is Data Types** \n",
    "\n",
    "**chapter5** Variables\n",
    "\n",
    "**chapter6** More data types "
   ]
  },
  {
   "cell_type": "markdown",
   "metadata": {},
   "source": [
    "Hello Every One, greetings! i am making this book to guide the people who are dependent and dont know how to code with python. U can use any integrated environment. suggested: VS Code. To download VS code on mac, pc, linix go to this site: https://code.visualstudio.com/download u will see the inteface with the dwnload buttons for mac / pc / linux and then u need to download and then later intall it."
   ]
  },
  {
   "cell_type": "markdown",
   "metadata": {},
   "source": [
    "**WARNING**: THIS work is done on jupyter notebook, and can be done on any environment."
   ]
  },
  {
   "cell_type": "markdown",
   "metadata": {},
   "source": [
    "1. ### **How to install python**"
   ]
  },
  {
   "cell_type": "markdown",
   "metadata": {},
   "source": [
    "to install python latest version of python on pc click on the link: https://www.python.org/downloads/ "
   ]
  },
  {
   "cell_type": "markdown",
   "metadata": {},
   "source": [
    "for latest version just go on the following lonk and u will get updated by the newest version."
   ]
  },
  {
   "cell_type": "markdown",
   "metadata": {},
   "source": [
    "2. ### **All the extensions needed for jupyter notebook and python**"
   ]
  },
  {
   "cell_type": "markdown",
   "metadata": {},
   "source": [
    "u need to see on the \"block option\" then click in it and search for the following extensions and install all of them:\n",
    "\n",
    "1. VS code PDF\n",
    "\n",
    "2. PDF viewer\n",
    "3. vscode numpy viewer\n",
    "4. python indent\n",
    "5. python environment\n",
    "6. python extention pack python debugger\n",
    "7. python\n",
    "8. pylance\n",
    "9. prittier(optional)\n",
    "10. markdown pdf\n",
    "11. jupyter slide show\n",
    "12. jupyter notebook\n",
    "13. jupyter keymap\n",
    "14. juppyter cell tag\n",
    "\n",
    "all of them u have to install.\n"
   ]
  },
  {
   "cell_type": "markdown",
   "metadata": {},
   "source": [
    "3. ### **Type your first line of code**\n"
   ]
  },
  {
   "cell_type": "markdown",
   "metadata": {},
   "source": [
    "down there u can see that there is a code, this code is understand able. **HOW?** so if u look at it, u are teling python to print in brackets and spicifying the text u want to write. Then if u run the code u see the print under the cell. Texts are called strings in python. **Strings** are a sequence of characters. **Strings** are enclosed in quotation marks"
   ]
  },
  {
   "cell_type": "code",
   "execution_count": 33,
   "metadata": {},
   "outputs": [
    {
     "name": "stdout",
     "output_type": "stream",
     "text": [
      "hello support me with the book\n"
     ]
    }
   ],
   "source": [
    "print(\"hello support me with the book\")"
   ]
  },
  {
   "cell_type": "markdown",
   "metadata": {},
   "source": [
    "**PYTHON STORMING TIME:**"
   ]
  },
  {
   "cell_type": "markdown",
   "metadata": {},
   "source": [
    "do this for me: type in your computer/laptop a line that says \"hi my friends\". If u did it u get **a weldone**, if u tried and cant do then u get a **good**."
   ]
  },
  {
   "cell_type": "markdown",
   "metadata": {},
   "source": [
    "3. ### **Mathematics**\n",
    "For the number (also called **integers**) u need no inverted comma's as shown below. look at the upper code and lower code no inverted comma's for integers(numbers). U dont have to put any kind of quotation marks for integers. U can use them as shown below."
   ]
  },
  {
   "cell_type": "markdown",
   "metadata": {},
   "source": []
  },
  {
   "cell_type": "markdown",
   "metadata": {},
   "source": [
    "#### Data types:"
   ]
  },
  {
   "cell_type": "code",
   "execution_count": 34,
   "metadata": {},
   "outputs": [
    {
     "name": "stdout",
     "output_type": "stream",
     "text": [
      "34\n"
     ]
    }
   ],
   "source": [
    "print(34)"
   ]
  },
  {
   "cell_type": "markdown",
   "metadata": {},
   "source": [
    "next u need to know decimals(also called **float number**). same here u dont need any inverted comma's for the float numbers because they are a kind of integers too but they are not integers. integers are whole numbers, without decimal or in fraction."
   ]
  },
  {
   "cell_type": "code",
   "execution_count": 35,
   "metadata": {},
   "outputs": [
    {
     "name": "stdout",
     "output_type": "stream",
     "text": [
      "3.5\n"
     ]
    }
   ],
   "source": [
    "print(3.5)"
   ]
  },
  {
   "cell_type": "markdown",
   "metadata": {},
   "source": [
    "Integers, Float, "
   ]
  },
  {
   "cell_type": "markdown",
   "metadata": {},
   "source": [
    "Now surprisingly, the python can solve maths sums too. say it to print in brackets, for example 3/4 (3 divided by 4)."
   ]
  },
  {
   "cell_type": "markdown",
   "metadata": {},
   "source": [
    "**Operators:**\n",
    "for doing maths u have to instruct python to do maths with operators, which are Addition, Subtraction, Multiplication, Division. basically these are mathematical signs for basic operation but in python called operators."
   ]
  },
  {
   "cell_type": "code",
   "execution_count": 36,
   "metadata": {},
   "outputs": [
    {
     "name": "stdout",
     "output_type": "stream",
     "text": [
      "5.0\n"
     ]
    }
   ],
   "source": [
    "print(25/5) # division"
   ]
  },
  {
   "cell_type": "code",
   "execution_count": 37,
   "metadata": {},
   "outputs": [
    {
     "name": "stdout",
     "output_type": "stream",
     "text": [
      "6\n"
     ]
    }
   ],
   "source": [
    "print(2+4) #addition"
   ]
  },
  {
   "cell_type": "code",
   "execution_count": 38,
   "metadata": {},
   "outputs": [
    {
     "name": "stdout",
     "output_type": "stream",
     "text": [
      "36\n"
     ]
    }
   ],
   "source": [
    "print(6*6) #multiplication"
   ]
  },
  {
   "cell_type": "code",
   "execution_count": 39,
   "metadata": {},
   "outputs": [
    {
     "name": "stdout",
     "output_type": "stream",
     "text": [
      "1\n"
     ]
    }
   ],
   "source": [
    "print(8-6-1) #subtraction"
   ]
  },
  {
   "cell_type": "markdown",
   "metadata": {},
   "source": [
    "if u want to perforn u sums in one cell do the following:"
   ]
  },
  {
   "cell_type": "code",
   "execution_count": 40,
   "metadata": {},
   "outputs": [
    {
     "name": "stdout",
     "output_type": "stream",
     "text": [
      "1 11\n"
     ]
    }
   ],
   "source": [
    "print(3-2 , 2+9)"
   ]
  },
  {
   "cell_type": "markdown",
   "metadata": {},
   "source": [
    "this is showing both the sums done in one single cell. Now these signs are called **Operators** in python (+,-,*,/)"
   ]
  },
  {
   "cell_type": "markdown",
   "metadata": {},
   "source": [
    "**PHYTHON STORMING TIME**"
   ]
  },
  {
   "cell_type": "markdown",
   "metadata": {},
   "source": [
    "operate ADDITION, SUBTRACTION, MULTIPLICATION, DIVISION in one cell\n"
   ]
  },
  {
   "cell_type": "markdown",
   "metadata": {},
   "source": [
    "4. ### **Variables**"
   ]
  },
  {
   "cell_type": "markdown",
   "metadata": {},
   "source": [
    "Now, the variables are a **crucial** part of python. Variables are anything that store a data. For an example \"x=5\" in this expression the x is storing 5, in easy words u write x or 5 it is same. if u write x it tells that it is 5 because \"x=(equals to)5\" and if u write 5 it means it is x, but, but , but ....... but both have there own times of use."
   ]
  },
  {
   "cell_type": "code",
   "execution_count": 41,
   "metadata": {},
   "outputs": [],
   "source": [
    "x=45"
   ]
  },
  {
   "cell_type": "code",
   "execution_count": 42,
   "metadata": {},
   "outputs": [
    {
     "name": "stdout",
     "output_type": "stream",
     "text": [
      "45\n"
     ]
    }
   ],
   "source": [
    "print(x)"
   ]
  },
  {
   "cell_type": "markdown",
   "metadata": {},
   "source": [
    "u see, i told python that x is integer 5. So then i told him to print me x, it knew that x is 5 so it print 5. Keep in mind, when u say python print x make the x is same in spelling. like below u can see u have to type correct spelling of the variable to print it "
   ]
  },
  {
   "cell_type": "markdown",
   "metadata": {},
   "source": [
    "**MORE EXAMPLES:**"
   ]
  },
  {
   "cell_type": "markdown",
   "metadata": {},
   "source": [
    "1.\n"
   ]
  },
  {
   "cell_type": "code",
   "execution_count": 43,
   "metadata": {},
   "outputs": [],
   "source": [
    "my_age=45 + 5"
   ]
  },
  {
   "cell_type": "code",
   "execution_count": 44,
   "metadata": {},
   "outputs": [
    {
     "name": "stdout",
     "output_type": "stream",
     "text": [
      "50\n"
     ]
    }
   ],
   "source": [
    "print(my_age)"
   ]
  },
  {
   "cell_type": "markdown",
   "metadata": {},
   "source": [
    "2."
   ]
  },
  {
   "cell_type": "code",
   "execution_count": 45,
   "metadata": {},
   "outputs": [],
   "source": [
    "myfathersname=\"Abdulraheem\""
   ]
  },
  {
   "cell_type": "code",
   "execution_count": 46,
   "metadata": {},
   "outputs": [],
   "source": [
    "\n",
    "mymothersname=\"Ambreen\""
   ]
  },
  {
   "cell_type": "code",
   "execution_count": 47,
   "metadata": {},
   "outputs": [],
   "source": [
    "myname=\"Abdulsattar\""
   ]
  },
  {
   "cell_type": "code",
   "execution_count": 48,
   "metadata": {},
   "outputs": [
    {
     "name": "stdout",
     "output_type": "stream",
     "text": [
      "Abdulraheem Ambreen Abdulsattar\n"
     ]
    }
   ],
   "source": [
    "print(myfathersname, mymothersname, myname)"
   ]
  },
  {
   "cell_type": "markdown",
   "metadata": {},
   "source": [
    "as u see over this text for the name or any kind of text u need to put the quotation marks\n"
   ]
  },
  {
   "cell_type": "markdown",
   "metadata": {},
   "source": [
    "**PHYTHON STORMING TIME**"
   ]
  },
  {
   "cell_type": "markdown",
   "metadata": {},
   "source": [
    "make a bio of yourself, including your name, age and interests, in variables then printing it."
   ]
  },
  {
   "cell_type": "markdown",
   "metadata": {},
   "source": [
    "Now lets take variable to an advanced level."
   ]
  },
  {
   "cell_type": "code",
   "execution_count": 49,
   "metadata": {},
   "outputs": [],
   "source": [
    "age=4"
   ]
  },
  {
   "cell_type": "code",
   "execution_count": 50,
   "metadata": {},
   "outputs": [],
   "source": [
    "name=\"abdulsattar\""
   ]
  },
  {
   "cell_type": "code",
   "execution_count": 51,
   "metadata": {},
   "outputs": [],
   "source": [
    "fathername=\"Abdulraheem\""
   ]
  },
  {
   "cell_type": "code",
   "execution_count": 52,
   "metadata": {},
   "outputs": [],
   "source": [
    "myhobbie=\"playing football (physical)\""
   ]
  },
  {
   "cell_type": "code",
   "execution_count": 53,
   "metadata": {},
   "outputs": [
    {
     "name": "stdout",
     "output_type": "stream",
     "text": [
      "hello world my name is abdulsattar  and my father's name is Abdulraheem ,my age is 4 and now the lasy but not the least my hobbie is  playing football (physical) lol, lol ........\n"
     ]
    }
   ],
   "source": [
    "print(\"hello world my name is\" , name, \" and my father's name is\" , fathername, \",my age is\" , age, \"and now the lasy but not the least my hobbie is \" , myhobbie,\"lol, lol ........\")"
   ]
  },
  {
   "cell_type": "markdown",
   "metadata": {},
   "source": [
    "over this text u see this is a  new thing. it is fun to do. u print a string and put the variable in front and go on and on and on and it makes a statement."
   ]
  },
  {
   "cell_type": "markdown",
   "metadata": {},
   "source": [
    "5. ### **More Data Types**"
   ]
  },
  {
   "cell_type": "markdown",
   "metadata": {},
   "source": [
    "if u want to know about the data type of the printed data do this as shown below."
   ]
  },
  {
   "cell_type": "code",
   "execution_count": 54,
   "metadata": {},
   "outputs": [
    {
     "name": "stdout",
     "output_type": "stream",
     "text": [
      "50\n",
      "<class 'int'>\n"
     ]
    }
   ],
   "source": [
    "age=45+5\n",
    "print(age)\n",
    "print(type(age))"
   ]
  },
  {
   "cell_type": "markdown",
   "metadata": {},
   "source": [
    "So, focus on the last line of the whole code. we are telling python to print the type (the class of the variable it is included in) of the variable \"age\"."
   ]
  },
  {
   "cell_type": "code",
   "execution_count": 55,
   "metadata": {},
   "outputs": [
    {
     "name": "stdout",
     "output_type": "stream",
     "text": [
      "<class 'str'>\n"
     ]
    }
   ],
   "source": [
    "myname=\"abdulsattar\"\n",
    "print(type(myname))"
   ]
  },
  {
   "cell_type": "markdown",
   "metadata": {},
   "source": [
    "for not printing the variable's value but just its type u need to do the uppper thing. it is same as the erlier one but it isn't printing the value of the variable but just its type."
   ]
  }
 ],
 "metadata": {
  "kernelspec": {
   "display_name": "Python 3",
   "language": "python",
   "name": "python3"
  },
  "language_info": {
   "codemirror_mode": {
    "name": "ipython",
    "version": 3
   },
   "file_extension": ".py",
   "mimetype": "text/x-python",
   "name": "python",
   "nbconvert_exporter": "python",
   "pygments_lexer": "ipython3",
   "version": "3.13.0"
  }
 },
 "nbformat": 4,
 "nbformat_minor": 2
}
